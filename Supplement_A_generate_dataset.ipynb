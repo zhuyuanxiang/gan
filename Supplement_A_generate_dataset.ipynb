{
 "cells": [
  {
   "cell_type": "code",
   "execution_count": 3,
   "metadata": {},
   "outputs": [
    {
     "name": "stdout",
     "output_type": "stream",
     "text": [
      "10000 (218, 178, 3)\n",
      "20000 (218, 178, 3)\n"
     ]
    }
   ],
   "source": [
    "# (c) Tariq Rashid 2019\n",
    "# GPL v2 \n",
    "# https://gist.github.com/makeyourownalgorithmicart/27fd5f3575050b1b8829028323a4c3f2\n",
    "\n",
    "import h5py\n",
    "import zipfile\n",
    "import imageio\n",
    "import os\n",
    "\n",
    "with h5py.File('datasets/celeba_aligned_small.h5py', 'w') as hf:\n",
    "\n",
    "    count = 1\n",
    "\n",
    "    # with zipfile.ZipFile('dataset/img_align_celeba.zip', 'r') as zf:\n",
    "    with zipfile.ZipFile('D:/TEMP/archive.zip', 'r') as zf:\n",
    "      for i in zf.namelist():\n",
    "        if (i[-4:] == '.jpg'):\n",
    "          ofile = zf.extract(i)\n",
    "          img = imageio.imread(ofile)\n",
    "          # img_list.append(img)\n",
    "          os.remove(ofile)\n",
    "          count = count + 1\n",
    "          if (count%10000 == 0):\n",
    "            print(count, img.shape)\n",
    "            pass\n",
    "          hf.create_dataset(i, data=img, compression=\"gzip\", compression_opts=9)\n",
    "          if (count == 20000):\n",
    "            break\n",
    "          pass\n",
    "        pass\n",
    "      pass"
   ]
  },
  {
   "cell_type": "code",
   "execution_count": null,
   "metadata": {},
   "outputs": [],
   "source": []
  }
 ],
 "metadata": {
  "interpreter": {
   "hash": "a1b8236355cd48af21de644c7b16cb5da37a47bcd5566053d684b48a58b5ab16"
  },
  "kernelspec": {
   "display_name": "Python 3.7.11 64-bit ('pix2pix': conda)",
   "language": "python",
   "name": "python3"
  },
  "language_info": {
   "codemirror_mode": {
    "name": "ipython",
    "version": 3
   },
   "file_extension": ".py",
   "mimetype": "text/x-python",
   "name": "python",
   "nbconvert_exporter": "python",
   "pygments_lexer": "ipython3",
   "version": "3.7.11"
  },
  "orig_nbformat": 4
 },
 "nbformat": 4,
 "nbformat_minor": 2
}
