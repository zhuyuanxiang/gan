{
  "cells": [
    {
      "cell_type": "markdown",
      "metadata": {
        "colab_type": "text",
        "id": "DpII-qgno6EX"
      },
      "source": [
        "# PyTorch 入门  - 张量, 求导\n",
        "\n",
        "PyTorch 生成对抗式网络编程, 2020"
      ]
    },
    {
      "cell_type": "code",
      "execution_count": 1,
      "metadata": {
        "colab": {},
        "colab_type": "code",
        "id": "7bkrfSHHAPUB"
      },
      "outputs": [],
      "source": [
        "# 导入 PyTorch 的模块\n",
        "import torch"
      ]
    },
    {
      "cell_type": "markdown",
      "metadata": {
        "colab_type": "text",
        "id": "R1VyK4VQpNYA"
      },
      "source": [
        "## 普通的 Python 变量\n",
        "\n",
        "变量（variable）是用来存储数据的。"
      ]
    },
    {
      "cell_type": "code",
      "execution_count": 3,
      "metadata": {
        "colab": {
          "base_uri": "https://localhost:8080/",
          "height": 34
        },
        "colab_type": "code",
        "id": "MrgKlTsRAfSk",
        "outputId": "17ba27ed-17ea-47db-a7f2-8db12349f941"
      },
      "outputs": [
        {
          "name": "stdout",
          "output_type": "stream",
          "text": [
            "x= 3.5\n",
            "y= 14.25\n"
          ]
        }
      ],
      "source": [
        "x = 3.5\n",
        "\n",
        "y = x*x + 2\n",
        "\n",
        "print(\"x=\",x)\n",
        "print(\"y=\",y)"
      ]
    },
    {
      "cell_type": "markdown",
      "metadata": {
        "colab_type": "text",
        "id": "F4OTVK6hpSWN"
      },
      "source": [
        "## PyTorch 张量\n",
        "\n",
        "张量（tensor）是用来在神经网络中进行计算的。"
      ]
    },
    {
      "cell_type": "code",
      "execution_count": 4,
      "metadata": {
        "colab": {
          "base_uri": "https://localhost:8080/",
          "height": 34
        },
        "colab_type": "code",
        "id": "rawHNyI0F_kE",
        "outputId": "ddbfaf4f-d7b5-4476-899c-94ab948fef10"
      },
      "outputs": [
        {
          "name": "stdout",
          "output_type": "stream",
          "text": [
            "tensor(3.5000)\n",
            "False\n"
          ]
        }
      ],
      "source": [
        "x = torch.tensor(3.5)\n",
        "\n",
        "print(x)\n",
        "print(x.requires_grad)"
      ]
    },
    {
      "cell_type": "markdown",
      "metadata": {
        "colab_type": "text",
        "id": "9awP8pdcpYkS"
      },
      "source": [
        "## 简单的张量计算"
      ]
    },
    {
      "cell_type": "code",
      "execution_count": null,
      "metadata": {
        "colab": {
          "base_uri": "https://localhost:8080/",
          "height": 34
        },
        "colab_type": "code",
        "id": "lzBkNWmEM1Ti",
        "outputId": "e0ad1a73-06cc-419b-91b3-655ae47f3397"
      },
      "outputs": [
        {
          "name": "stdout",
          "output_type": "stream",
          "text": [
            "tensor(6.5000)\n"
          ]
        }
      ],
      "source": [
        "y = x + 3\n",
        "\n",
        "print(y)"
      ]
    },
    {
      "cell_type": "markdown",
      "metadata": {},
      "source": [
        "## 定义张量为允许求导"
      ]
    },
    {
      "cell_type": "code",
      "execution_count": 6,
      "metadata": {
        "colab": {
          "base_uri": "https://localhost:8080/",
          "height": 34
        },
        "colab_type": "code",
        "id": "K3ApzYRGWPBn",
        "outputId": "707d38fc-ceac-45e3-892d-dac9be8b78ba"
      },
      "outputs": [
        {
          "name": "stdout",
          "output_type": "stream",
          "text": [
            "tensor(3.5000, requires_grad=True)\n"
          ]
        }
      ],
      "source": [
        "x = torch.tensor(3.5, requires_grad=True)\n",
        "\n",
        "print(x)"
      ]
    },
    {
      "cell_type": "markdown",
      "metadata": {
        "colab_type": "text",
        "id": "ljyzfEjGpf_X"
      },
      "source": [
        "## 有函数关系的张量"
      ]
    },
    {
      "cell_type": "code",
      "execution_count": 13,
      "metadata": {
        "colab": {
          "base_uri": "https://localhost:8080/",
          "height": 34
        },
        "colab_type": "code",
        "id": "aqiw-7N-WS_l",
        "outputId": "96eca481-708c-45ab-88b5-69e90c485ccb"
      },
      "outputs": [
        {
          "name": "stdout",
          "output_type": "stream",
          "text": [
            "tensor(3.5000)\n",
            "tensor(1.8750, grad_fn=<MulBackward0>)\n",
            "tensor(3.5000, requires_grad=True)\n",
            "tensor(1.8750, grad_fn=<MulBackward0>)\n"
          ]
        }
      ],
      "source": [
        "# y 定义为 x 的函数\n",
        "\n",
        "y = (x-1) * (x-2) * (x-3)\n",
        "\n",
        "x = torch.tensor(3.5, requires_grad=False)\n",
        "print(x)\n",
        "print(y)\n",
        "\n",
        "x = torch.tensor(3.5, requires_grad=True)\n",
        "print(x)\n",
        "print(y)"
      ]
    },
    {
      "cell_type": "markdown",
      "metadata": {
        "colab_type": "text",
        "id": "OomRR79kpj-W"
      },
      "source": [
        "## 自动求导与梯度计算"
      ]
    },
    {
      "cell_type": "code",
      "execution_count": 22,
      "metadata": {
        "colab": {},
        "colab_type": "code",
        "id": "TOhq_oKGXSOy"
      },
      "outputs": [
        {
          "name": "stdout",
          "output_type": "stream",
          "text": [
            "求导前 x 的梯度= None\n",
            "求导后 x 的梯度= tensor(5.7500)\n",
            "x= tensor(3.5000, requires_grad=True)\n",
            "y= tensor(1.8750, grad_fn=<MulBackward0>)\n"
          ]
        }
      ],
      "source": [
        "# 设置 x 为不允许自动求导的，则无法调用 y.backward()\n",
        "\n",
        "# x = torch.tensor(3.5, requires_grad=False)\n",
        "# y = (x-1) * (x-2) * (x-3)\n",
        "# y.backward()\n",
        "\n",
        "# 设置 x 为允许自动求导的\n",
        "x = torch.tensor(3.5, requires_grad=True)\n",
        "y = (x-1) * (x-2) * (x-3)\n",
        "print(\"求导前 x 的梯度=\",x.grad)\n",
        "y.backward()\n",
        "print(\"求导后 x 的梯度=\",x.grad)\n",
        "print(\"x=\",x)\n",
        "print(\"y=\",y)\n",
        "\n",
        "# y.backward()    # 只能调用一次"
      ]
    },
    {
      "cell_type": "code",
      "execution_count": 19,
      "metadata": {
        "colab": {
          "base_uri": "https://localhost:8080/",
          "height": 34
        },
        "colab_type": "code",
        "id": "jnBUpoBLfKoI",
        "outputId": "ae54c18d-3f43-4104-950f-60a14e0f924b"
      },
      "outputs": [
        {
          "data": {
            "text/plain": [
              "tensor(5.7500)"
            ]
          },
          "execution_count": 19,
          "metadata": {},
          "output_type": "execute_result"
        }
      ],
      "source": [
        "# 求导的目的是得出 x 的梯度\n",
        "\n",
        "x.grad"
      ]
    }
  ],
  "metadata": {
    "colab": {
      "collapsed_sections": [],
      "name": "00_pytorch_basics.ipynb",
      "provenance": []
    },
    "kernelspec": {
      "display_name": "Python 3",
      "name": "python3"
    },
    "language_info": {
      "codemirror_mode": {
        "name": "ipython",
        "version": 3
      },
      "file_extension": ".py",
      "mimetype": "text/x-python",
      "name": "python",
      "nbconvert_exporter": "python",
      "pygments_lexer": "ipython3",
      "version": "3.7.11"
    }
  },
  "nbformat": 4,
  "nbformat_minor": 0
}
