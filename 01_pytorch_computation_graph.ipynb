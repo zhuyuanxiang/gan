{
  "cells": [
    {
      "cell_type": "markdown",
      "metadata": {
        "colab_type": "text",
        "id": "DpII-qgno6EX"
      },
      "source": [
        "# PyTorch 入门  - 计算图\n",
        "\n",
        "PyTorch 生成对抗式网络编程, 2020"
      ]
    },
    {
      "cell_type": "code",
      "execution_count": 1,
      "metadata": {
        "colab": {},
        "colab_type": "code",
        "id": "7bkrfSHHAPUB"
      },
      "outputs": [],
      "source": [
        "import torch"
      ]
    },
    {
      "cell_type": "markdown",
      "metadata": {
        "colab_type": "text",
        "id": "R1VyK4VQpNYA"
      },
      "source": [
        "## 简单的计算图\n",
        "\n",
        "```\n",
        "  (x) --> (y) --> (z)\n",
        "```\n",
        "\n",
        "> y = x^2\n",
        ">\n",
        "> z = 2y + 3"
      ]
    },
    {
      "cell_type": "code",
      "execution_count": 2,
      "metadata": {
        "colab": {},
        "colab_type": "code",
        "id": "MrgKlTsRAfSk"
      },
      "outputs": [],
      "source": [
        "# 设置简单的计算图相关的 x,y,z\n",
        "\n",
        "x = torch.tensor(3.5, requires_grad=True)\n",
        "\n",
        "y = x*x\n",
        "\n",
        "z = 2*y + 3"
      ]
    },
    {
      "cell_type": "code",
      "execution_count": 3,
      "metadata": {
        "colab": {},
        "colab_type": "code",
        "id": "TOhq_oKGXSOy"
      },
      "outputs": [],
      "source": [
        "# 计算 z 的梯度\n",
        "\n",
        "z.backward()"
      ]
    },
    {
      "cell_type": "code",
      "execution_count": 4,
      "metadata": {
        "colab": {
          "base_uri": "https://localhost:8080/",
          "height": 34
        },
        "colab_type": "code",
        "id": "qDduuF1v6B_D",
        "outputId": "960f2b3c-0dc3-4d10-950b-01eb82823b80"
      },
      "outputs": [
        {
          "name": "stdout",
          "output_type": "stream",
          "text": [
            "tensor(14.)\n"
          ]
        }
      ],
      "source": [
        "# 输出 x = 3.5 时的梯度\n",
        "\n",
        "print(x.grad)"
      ]
    },
    {
      "cell_type": "markdown",
      "metadata": {
        "colab_type": "text",
        "id": "I7QFFLTZ-N67"
      },
      "source": [
        "## 多个链接到一个结点的计算图\n",
        "\n",
        "```\n",
        "\n",
        "  (a) --> (x)\n",
        "       \\ /     \\\n",
        "       .       (z)\n",
        "      / \\     /\n",
        "  (b) --> (y)\n",
        "\n",
        " \n",
        "  x = 2a + 3b\n",
        " \n",
        "  y = 5a^2 + 3b^3\n",
        " \n",
        "  z = 2x + 3y\n",
        "\n",
        "```"
      ]
    },
    {
      "cell_type": "code",
      "execution_count": 5,
      "metadata": {
        "colab": {},
        "colab_type": "code",
        "id": "3CUzpIXo-N69"
      },
      "outputs": [],
      "source": [
        "# 设置计算图相关的 x,y,z\n",
        "\n",
        "a = torch.tensor(2.0, requires_grad=True)\n",
        "b = torch.tensor(1.0, requires_grad=True)\n",
        "\n",
        "x = 2*a + 3*b\n",
        "\n",
        "y = 5*a*a + 3*b*b*b\n",
        "\n",
        "z = 2*x + 3*y"
      ]
    },
    {
      "cell_type": "code",
      "execution_count": 6,
      "metadata": {
        "colab": {},
        "colab_type": "code",
        "id": "OJ5XB02x-N7A"
      },
      "outputs": [],
      "source": [
        "# 计算梯度\n",
        "\n",
        "z.backward()"
      ]
    },
    {
      "cell_type": "code",
      "execution_count": 7,
      "metadata": {
        "colab": {
          "base_uri": "https://localhost:8080/",
          "height": 34
        },
        "colab_type": "code",
        "id": "xmq8iajv-N7C",
        "outputId": "804abbe1-cf8f-47eb-ea5d-bda2bef3b68f"
      },
      "outputs": [
        {
          "data": {
            "text/plain": [
              "tensor(64.)"
            ]
          },
          "execution_count": 7,
          "metadata": {},
          "output_type": "execute_result"
        }
      ],
      "source": [
        "# 输出 a = 2.0 时的梯度值\n",
        "\n",
        "a.grad"
      ]
    },
    {
      "cell_type": "markdown",
      "metadata": {
        "colab_type": "text",
        "id": "ShtN80XgIh7g"
      },
      "source": [
        "## 手工检查 PyTorch 的输出结果\n",
        "\n",
        "\n",
        "```\n",
        "\n",
        "dz/da = dz/dx * dx/da + dz/dy * dy/da\n",
        "\n",
        "      = 2 * 2 + 3 * 10a\n",
        "\n",
        "      = 4  + 30a\n",
        "\n",
        "When a = 3.5, dz/da = 64  ... correct!\n",
        "\n",
        "```\n",
        "\n"
      ]
    }
  ],
  "metadata": {
    "colab": {
      "collapsed_sections": [],
      "name": "01_pytorch_computation_graph.ipynb",
      "provenance": []
    },
    "kernelspec": {
      "display_name": "Python 3",
      "name": "python3"
    },
    "language_info": {
      "codemirror_mode": {
        "name": "ipython",
        "version": 3
      },
      "file_extension": ".py",
      "mimetype": "text/x-python",
      "name": "python",
      "nbconvert_exporter": "python",
      "pygments_lexer": "ipython3",
      "version": "3.7.11"
    }
  },
  "nbformat": 4,
  "nbformat_minor": 0
}
