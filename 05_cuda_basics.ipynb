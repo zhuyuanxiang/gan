{
  "cells": [
    {
      "cell_type": "markdown",
      "metadata": {
        "colab_type": "text",
        "id": "KcviuZ92K-0Y"
      },
      "source": [
        "# CUDA 基础 - 简单例子\n",
        "\n",
        "PyTorch 生成对抗式网络编程, 2020"
      ]
    },
    {
      "cell_type": "code",
      "execution_count": 1,
      "metadata": {
        "colab": {},
        "colab_type": "code",
        "id": "8-fk3XZeK0hP"
      },
      "outputs": [],
      "source": [
        "import torch\n",
        "import numpy"
      ]
    },
    {
      "cell_type": "markdown",
      "metadata": {
        "colab_type": "text",
        "id": "G40AKirRhOcs"
      },
      "source": [
        "## Numpy 与 Python 的计算比较\n",
        "\n",
        "numpy 的矩阵计算比 Python 快了 1500 倍"
      ]
    },
    {
      "cell_type": "code",
      "execution_count": 2,
      "metadata": {
        "colab": {},
        "colab_type": "code",
        "id": "TyZQfwoLKyaI"
      },
      "outputs": [],
      "source": [
        "# 方阵大小\n",
        "size = 600\n",
        "\n",
        "a = numpy.random.rand(size, size)\n",
        "b = numpy.random.rand(size, size)"
      ]
    },
    {
      "cell_type": "code",
      "execution_count": 3,
      "metadata": {
        "colab": {
          "base_uri": "https://localhost:8080/",
          "height": 34
        },
        "colab_type": "code",
        "id": "RiWSaKT3b57n",
        "outputId": "343f4028-6700-4a4e-8dd1-2e98763ea861"
      },
      "outputs": [
        {
          "name": "stdout",
          "output_type": "stream",
          "text": [
            "2.77 ms ± 23.1 µs per loop (mean ± std. dev. of 7 runs, 100 loops each)\n"
          ]
        }
      ],
      "source": [
        "%%timeit\n",
        "\n",
        "x = numpy.dot(a,b)"
      ]
    },
    {
      "cell_type": "code",
      "execution_count": 11,
      "metadata": {},
      "outputs": [],
      "source": [
        "# 方阵大小\n",
        "c = numpy.zeros((size,size))"
      ]
    },
    {
      "cell_type": "code",
      "execution_count": 12,
      "metadata": {
        "colab": {
          "base_uri": "https://localhost:8080/",
          "height": 34
        },
        "colab_type": "code",
        "id": "nJe4_VVpYn_i",
        "outputId": "b9c62d2f-5315-40fb-f129-52eb544c6a09"
      },
      "outputs": [
        {
          "name": "stdout",
          "output_type": "stream",
          "text": [
            "1min 41s ± 1.43 s per loop (mean ± std. dev. of 7 runs, 1 loop each)\n"
          ]
        }
      ],
      "source": [
        "%%timeit\n",
        "\n",
        "for i in range(size):\n",
        "  for j in range(size):\n",
        "    for k in range(size):\n",
        "      c[i,j] += a[i,k] * b[k,j]\n",
        "    pass\n",
        "  pass"
      ]
    },
    {
      "cell_type": "markdown",
      "metadata": {
        "colab_type": "text",
        "id": "7IsDaKcoNFLR"
      },
      "source": [
        "## GPU 上的张量"
      ]
    },
    {
      "cell_type": "code",
      "execution_count": 5,
      "metadata": {
        "colab": {
          "base_uri": "https://localhost:8080/",
          "height": 34
        },
        "colab_type": "code",
        "id": "1H1U4grjNL_m",
        "outputId": "a0480efe-0ace-413c-a296-6ffa90ae02ef"
      },
      "outputs": [
        {
          "data": {
            "text/plain": [
              "'torch.cuda.FloatTensor'"
            ]
          },
          "execution_count": 5,
          "metadata": {},
          "output_type": "execute_result"
        }
      ],
      "source": [
        "# 创建 GPU 上的张量\n",
        "\n",
        "x = torch.cuda.FloatTensor([3.5])\n",
        "x.type()"
      ]
    },
    {
      "cell_type": "code",
      "execution_count": 6,
      "metadata": {
        "colab": {
          "base_uri": "https://localhost:8080/",
          "height": 34
        },
        "colab_type": "code",
        "id": "ITLReJU_bR6-",
        "outputId": "d4a6ef29-53f9-442b-80cd-cdae308f8168"
      },
      "outputs": [
        {
          "data": {
            "text/plain": [
              "device(type='cuda', index=0)"
            ]
          },
          "execution_count": 6,
          "metadata": {},
          "output_type": "execute_result"
        }
      ],
      "source": [
        "# 检查 GPU 上的张量\n",
        "x.device"
      ]
    },
    {
      "cell_type": "code",
      "execution_count": 7,
      "metadata": {
        "colab": {
          "base_uri": "https://localhost:8080/",
          "height": 34
        },
        "colab_type": "code",
        "id": "OKCqHZ0zbcIn",
        "outputId": "fceed783-9865-40e5-e15a-3f2629d65df6"
      },
      "outputs": [
        {
          "name": "stdout",
          "output_type": "stream",
          "text": [
            "y= tensor([12.2500], device='cuda:0')\n"
          ]
        }
      ],
      "source": [
        "# 计算 GPU 上的张量\n",
        "\n",
        "y = x * x\n",
        "print(\"y=\", y)"
      ]
    },
    {
      "cell_type": "markdown",
      "metadata": {
        "colab_type": "text",
        "id": "yF8mW5kqiPOZ"
      },
      "source": [
        "## CUDA 的性能"
      ]
    },
    {
      "cell_type": "code",
      "execution_count": 8,
      "metadata": {
        "colab": {},
        "colab_type": "code",
        "id": "Pg78pR2vM_U2"
      },
      "outputs": [],
      "source": [
        "# 基于 Numpy 创建 GPU 上的张量\n",
        "\n",
        "aa = torch.cuda.FloatTensor(a)\n",
        "bb = torch.cuda.FloatTensor(b)"
      ]
    },
    {
      "cell_type": "code",
      "execution_count": 9,
      "metadata": {
        "colab": {
          "base_uri": "https://localhost:8080/",
          "height": 51
        },
        "colab_type": "code",
        "id": "1_7JODnbF2gw",
        "outputId": "f5017e4b-578b-45b3-a95a-e7325f62d84c"
      },
      "outputs": [
        {
          "name": "stdout",
          "output_type": "stream",
          "text": [
            "43.9 µs ± 12 µs per loop (mean ± std. dev. of 7 runs, 1 loop each)\n"
          ]
        }
      ],
      "source": [
        "%%timeit\n",
        "\n",
        "cc = torch.matmul(aa, bb)"
      ]
    },
    {
      "cell_type": "markdown",
      "metadata": {
        "colab_type": "text",
        "id": "ba7Ggq_6M5Bb"
      },
      "source": [
        "## 标准的 CUDA 检查与设置"
      ]
    },
    {
      "cell_type": "code",
      "execution_count": 10,
      "metadata": {
        "colab": {
          "base_uri": "https://localhost:8080/",
          "height": 51
        },
        "colab_type": "code",
        "id": "lU86giDzM3Dv",
        "outputId": "da312c5b-ecfb-4e38-a6fa-4ccf475d7de9"
      },
      "outputs": [
        {
          "name": "stdout",
          "output_type": "stream",
          "text": [
            "using cuda: GeForce GTX 1650\n",
            "device=cuda\n"
          ]
        }
      ],
      "source": [
        "# 检查 CUDA 是否可用\n",
        "# 如果“可用”，设置默认地创建张量在 CUDA 上\n",
        "\n",
        "if torch.cuda.is_available():\n",
        "  torch.set_default_tensor_type(torch.cuda.FloatTensor)\n",
        "  print(\"using cuda:\", torch.cuda.get_device_name(0))\n",
        "  pass\n",
        "\n",
        "device = torch.device(\"cuda\" if torch.cuda.is_available() else \"cpu\")\n",
        "\n",
        "print(\"device=\" + str(device))"
      ]
    }
  ],
  "metadata": {
    "accelerator": "GPU",
    "colab": {
      "collapsed_sections": [],
      "name": "05_cuda_basics.ipynb",
      "provenance": []
    },
    "kernelspec": {
      "display_name": "Python 3",
      "name": "python3"
    },
    "language_info": {
      "codemirror_mode": {
        "name": "ipython",
        "version": 3
      },
      "file_extension": ".py",
      "mimetype": "text/x-python",
      "name": "python",
      "nbconvert_exporter": "python",
      "pygments_lexer": "ipython3",
      "version": "3.7.11"
    }
  },
  "nbformat": 4,
  "nbformat_minor": 0
}
